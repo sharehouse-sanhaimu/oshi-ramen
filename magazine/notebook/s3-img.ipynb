{
 "cells": [
  {
   "cell_type": "code",
   "execution_count": null,
   "metadata": {},
   "outputs": [],
   "source": [
    "url = \"https://oshi-ramen-image.s3.ap-northeast-1.amazonaws.com/uploads/8fba9374-b161-45ca-920a-4e4cb09c63c5_1aa37b19-9224-4d8f-ae5f-d8278647e552_kurakukuroroku.jpg\""
   ]
  },
  {
   "cell_type": "code",
   "execution_count": 1,
   "metadata": {},
   "outputs": [],
   "source": [
    "import requests\n",
    "from PIL import Image\n",
    "from io import BytesIO\n",
    "\n",
    "# 画像のURL\n",
    "url = \"https://oshi-ramen-image.s3.ap-northeast-1.amazonaws.com/uploads/8fba9374-b161-45ca-920a-4e4cb09c63c5_1aa37b19-9224-4d8f-ae5f-d8278647e552_kurakukuroroku.jpg\"\n",
    "\n",
    "# 画像を取得\n",
    "response = requests.get(url)\n",
    "img = Image.open(BytesIO(response.content))\n",
    "\n",
    "# 画像を保存\n",
    "img.save(\"downloaded_image.jpg\")\n"
   ]
  }
 ],
 "metadata": {
  "kernelspec": {
   "display_name": "ramen",
   "language": "python",
   "name": "python3"
  },
  "language_info": {
   "codemirror_mode": {
    "name": "ipython",
    "version": 3
   },
   "file_extension": ".py",
   "mimetype": "text/x-python",
   "name": "python",
   "nbconvert_exporter": "python",
   "pygments_lexer": "ipython3",
   "version": "3.12.9"
  }
 },
 "nbformat": 4,
 "nbformat_minor": 2
}
