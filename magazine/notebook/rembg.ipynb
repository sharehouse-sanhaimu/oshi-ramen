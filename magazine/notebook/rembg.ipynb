{
 "cells": [
  {
   "cell_type": "code",
   "execution_count": 1,
   "metadata": {},
   "outputs": [],
   "source": [
    "from PIL import Image\n",
    "from io import BytesIO\n",
    "from rembg import remove\n",
    "from pathlib import Path"
   ]
  },
  {
   "cell_type": "code",
   "execution_count": 4,
   "metadata": {},
   "outputs": [],
   "source": [
    "def remove_background(image: bytes | Image.Image) -> bytes:\n",
    "    \"\"\"\n",
    "        画像の背景を透過する\n",
    "        Args:\n",
    "            image (bytes or PIL.Image): 画像\n",
    "        Returns:\n",
    "            remove_bg_image : 背景を透過した画像(バイナリ)\n",
    "        Raises:\n",
    "            TypeError: imageがbytesまたはPIL.Imageでない場合\n",
    "    \"\"\"\n",
    "\n",
    "    # 画像(バイナリ)をImageに変換\n",
    "    if isinstance(image, bytes):\n",
    "        image = Image.open(BytesIO(image))\n",
    "    if not isinstance(image, Image.Image):\n",
    "        raise TypeError(\"image must be bytes or PIL.Image\")\n",
    "\n",
    "    # 背景を透過したPNGに変換 \n",
    "    remove_bg_image  = remove(image) \n",
    "    buffered = BytesIO()\n",
    "    remove_bg_image.save(buffered, format=\"PNG\")\n",
    "    \n",
    "    return buffered.getvalue() # 画像(バイナリ)を取得"
   ]
  },
  {
   "cell_type": "code",
   "execution_count": null,
   "metadata": {},
   "outputs": [],
   "source": [
    "img_dir = Path(\"/Users/iwakiaoiyou/oshi-ramen/view/public/ramen\")\n",
    "out_dir = Path(\"/Users/iwakiaoiyou/oshi-ramen/magazine/imgs/rembg\")\n",
    "\n",
    "img_path = img_dir / \"IMG_9358.jpeg\"\n",
    "\n",
    "with open(img_path, \"rb\") as f:\n",
    "    image = f.read()\n",
    "\n",
    "rembg = remove(image)\n",
    "\n",
    "out_path = out_dir / str(img_path.stem + \"_remove_bg.png\")\n",
    "with open(out_path, \"wb\") as f:\n",
    "    f.write(rembg)"
   ]
  },
  {
   "cell_type": "code",
   "execution_count": 8,
   "metadata": {},
   "outputs": [
    {
     "name": "stdout",
     "output_type": "stream",
     "text": [
      "Done!\n"
     ]
    }
   ],
   "source": [
    "img_dir = Path(\"/Users/iwakiaoiyou/oshi-ramen/view/public/ramen\")\n",
    "out_dir = Path(\"/Users/iwakiaoiyou/oshi-ramen/magazine/imgs/rembg\")\n",
    "\n",
    "# Loop through all the files in the directory\n",
    "for img_path in img_dir.glob(\"*.jpeg\"):\n",
    "    # Open the image file\n",
    "    with open(img_path, \"rb\") as f:\n",
    "        image = f.read()\n",
    "\n",
    "    # Remove the background\n",
    "    remove_bg_image = remove_background(image)\n",
    "\n",
    "    # Save the image with the background removed\n",
    "    out_path = out_dir / (img_path.stem + \"_remove_bg.png\")\n",
    "    with open(out_path, \"wb\") as f:\n",
    "        f.write(remove_bg_image)\n",
    "\n",
    "print(\"Done!\")"
   ]
  }
 ],
 "metadata": {
  "kernelspec": {
   "display_name": "ramen",
   "language": "python",
   "name": "python3"
  },
  "language_info": {
   "codemirror_mode": {
    "name": "ipython",
    "version": 3
   },
   "file_extension": ".py",
   "mimetype": "text/x-python",
   "name": "python",
   "nbconvert_exporter": "python",
   "pygments_lexer": "ipython3",
   "version": "3.12.9"
  }
 },
 "nbformat": 4,
 "nbformat_minor": 2
}
