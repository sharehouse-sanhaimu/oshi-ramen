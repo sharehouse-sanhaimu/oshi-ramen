{
 "cells": [
  {
   "cell_type": "code",
   "execution_count": 4,
   "metadata": {},
   "outputs": [],
   "source": [
    "from pathlib import Path\n",
    "from PIL import Image, ImageDraw, ImageOps"
   ]
  },
  {
   "cell_type": "code",
   "execution_count": 5,
   "metadata": {},
   "outputs": [],
   "source": [
    "img_urlimg_dir = Path(\"/Users/iwakiaoiyou/oshi-ramen/view/public/ramen\")\n",
    "out_dir = Path(\"/Users/iwakiaoiyou/oshi-ramen/magazine/imgs/round-corner\")"
   ]
  },
  {
   "cell_type": "code",
   "execution_count": 6,
   "metadata": {},
   "outputs": [],
   "source": [
    "def round_corner (img: Image, radius: int) -> Image:\n",
    "    # 画像のサイズを取得\n",
    "    width, height = img.size\n",
    "\n",
    "    # 角を丸めるためのマスクを作成\n",
    "    mask = Image.new(\"L\", (width, height), 0)\n",
    "    draw = ImageDraw.Draw(mask)\n",
    "    draw.rounded_rectangle((0, 0, width, height), radius, fill=255)\n",
    "\n",
    "    # 画像にマスクを適用\n",
    "    img = ImageOps.fit(img, (width, height))\n",
    "    img.putalpha(mask)\n",
    "\n",
    "    return img"
   ]
  },
  {
   "cell_type": "code",
   "execution_count": 7,
   "metadata": {},
   "outputs": [],
   "source": [
    "def crop_center_square(img: Image):\n",
    "    # 画像のサイズを取得\n",
    "    width, height = img.size\n",
    "\n",
    "    # 正方形の辺の長さを決定\n",
    "    new_side = min(width, height)\n",
    "\n",
    "    # 中心を計算\n",
    "    left = (width - new_side) / 2\n",
    "    top = (height - new_side) / 2\n",
    "    right = (width + new_side) / 2\n",
    "    bottom = (height + new_side) / 2\n",
    "\n",
    "    # 画像を切り抜く\n",
    "    img = img.crop((left, top, right, bottom))\n",
    "\n",
    "    return img"
   ]
  },
  {
   "cell_type": "code",
   "execution_count": 8,
   "metadata": {},
   "outputs": [
    {
     "ename": "NameError",
     "evalue": "name 'img_dir' is not defined",
     "output_type": "error",
     "traceback": [
      "\u001b[0;31m---------------------------------------------------------------------------\u001b[0m",
      "\u001b[0;31mNameError\u001b[0m                                 Traceback (most recent call last)",
      "Cell \u001b[0;32mIn[8], line 30\u001b[0m\n\u001b[1;32m     28\u001b[0m \u001b[38;5;66;03m# 使用例\u001b[39;00m\n\u001b[1;32m     29\u001b[0m out_dir \u001b[38;5;241m=\u001b[39m Path(\u001b[38;5;124m\"\u001b[39m\u001b[38;5;124m/Users/iwakiaoiyou/oshi-ramen/magazine/imgs/round-square\u001b[39m\u001b[38;5;124m\"\u001b[39m)\n\u001b[0;32m---> 30\u001b[0m round_corners_all_images(\u001b[43mimg_dir\u001b[49m, out_dir, radius \u001b[38;5;241m=\u001b[39m \u001b[38;5;241m500\u001b[39m)  \u001b[38;5;66;03m# radiusは角の丸みの半径\u001b[39;00m\n",
      "\u001b[0;31mNameError\u001b[0m: name 'img_dir' is not defined"
     ]
    }
   ],
   "source": [
    "def round_corners_all_images(img_dir, out_dir, radius):\n",
    "    # 出力ディレクトリが存在しない場合は作成\n",
    "    out_dir.mkdir(parents=True, exist_ok=True)\n",
    "    print(out_dir)\n",
    "\n",
    "    # img_dir内の全ての画像ファイルを処理\n",
    "    for img_path in img_dir.glob(\"*.jpeg\"):\n",
    "        print(img_path)\n",
    "        # 画像を開く\n",
    "        image = Image.open(img_path)\n",
    "\n",
    "        # 画像を正方形に切り抜く\n",
    "        image = crop_center_square(image)\n",
    "\n",
    "        # 角を丸める\n",
    "        image = round_corner(image,\n",
    "                            radius = radius)\n",
    "\n",
    "        # 出力パスを作成 as png\n",
    "        out_path = out_dir / img_path.name\n",
    "        out_path = out_path.with_suffix(\".png\")\n",
    "        print(out_path)\n",
    "\n",
    "        # 画像を保存する\n",
    "        image.save(out_path)\n",
    "\n",
    "\n",
    "# 使用例\n",
    "out_dir = Path(\"/Users/iwakiaoiyou/oshi-ramen/magazine/imgs/round-square\")\n",
    "round_corners_all_images(img_dir, out_dir, radius = 500)  # radiusは角の丸みの半径"
   ]
  },
  {
   "cell_type": "code",
   "execution_count": 11,
   "metadata": {},
   "outputs": [
    {
     "name": "stdout",
     "output_type": "stream",
     "text": [
      "/Users/iwakiaoiyou/oshi-ramen/magazine/imgs/url\n",
      "/Users/iwakiaoiyou/oshi-ramen/magazine/imgs/url/8fba9374-b161-45ca-920a-4e4cb09c63c5_1aa37b19-9224-4d8f-ae5f-d8278647e552_kurakukuroroku.png\n"
     ]
    }
   ],
   "source": [
    "from io import BytesIO\n",
    "import requests\n",
    "\n",
    "\n",
    "def round_corners_all_images(img_url, out_dir, radius):\n",
    "    # 出力ディレクトリが存在しない場合は作成\n",
    "    out_dir.mkdir(parents=True, exist_ok=True)\n",
    "    print(out_dir)\n",
    "\n",
    "    # 画像を開く\n",
    "    response = requests.get(img_url)\n",
    "    image = Image.open(BytesIO(response.content))\n",
    "\n",
    "    # 画像を正方形に切り抜く\n",
    "    image = crop_center_square(image)\n",
    "\n",
    "    # 角を丸める\n",
    "    image = round_corner(image, radius=radius)\n",
    "\n",
    "    # 出力パスを作成 as png\n",
    "    out_path = out_dir / Path(img_url).name\n",
    "    out_path = out_path.with_suffix(\".png\")\n",
    "    print(out_path)\n",
    "\n",
    "    # 画像を保存する\n",
    "    image.save(out_path)\n",
    "\n",
    "\n",
    "# 使用例\n",
    "img_url = \"https://oshi-ramen-image.s3.ap-northeast-1.amazonaws.com/uploads/8fba9374-b161-45ca-920a-4e4cb09c63c5_1aa37b19-9224-4d8f-ae5f-d8278647e552_kurakukuroroku.jpg\"\n",
    "out_dir = Path(\"/Users/iwakiaoiyou/oshi-ramen/magazine/imgs/url\")\n",
    "round_corners_all_images(img_url, out_dir, radius=100)  # radiusは角の丸みの半径\n"
   ]
  }
 ],
 "metadata": {
  "kernelspec": {
   "display_name": "ramen",
   "language": "python",
   "name": "python3"
  },
  "language_info": {
   "codemirror_mode": {
    "name": "ipython",
    "version": 3
   },
   "file_extension": ".py",
   "mimetype": "text/x-python",
   "name": "python",
   "nbconvert_exporter": "python",
   "pygments_lexer": "ipython3",
   "version": "3.12.9"
  }
 },
 "nbformat": 4,
 "nbformat_minor": 2
}
