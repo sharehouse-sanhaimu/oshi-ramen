{
 "cells": [
  {
   "cell_type": "code",
   "execution_count": 6,
   "metadata": {},
   "outputs": [],
   "source": [
    "from pathlib import Path\n",
    "from PIL import Image, ImageDraw, ImageOps"
   ]
  },
  {
   "cell_type": "code",
   "execution_count": 12,
   "metadata": {},
   "outputs": [],
   "source": [
    "img_dir = Path(\"/Users/iwakiaoiyou/oshi-ramen/view/public/ramen\")\n",
    "out_dir = Path(\"/Users/iwakiaoiyou/oshi-ramen/magazine/imgs/round-corner\")"
   ]
  },
  {
   "cell_type": "code",
   "execution_count": 25,
   "metadata": {},
   "outputs": [],
   "source": [
    "def round_corner (img: Image, radius: int) -> Image:\n",
    "    # 画像のサイズを取得\n",
    "    width, height = img.size\n",
    "\n",
    "    # 角を丸めるためのマスクを作成\n",
    "    mask = Image.new(\"L\", (width, height), 0)\n",
    "    draw = ImageDraw.Draw(mask)\n",
    "    draw.rounded_rectangle((0, 0, width, height), radius, fill=255)\n",
    "\n",
    "    # 画像にマスクを適用\n",
    "    img = ImageOps.fit(img, (width, height))\n",
    "    img.putalpha(mask)\n",
    "\n",
    "    return img"
   ]
  },
  {
   "cell_type": "code",
   "execution_count": 22,
   "metadata": {},
   "outputs": [],
   "source": [
    "def crop_center_square(img: Image):\n",
    "    # 画像のサイズを取得\n",
    "    width, height = img.size\n",
    "\n",
    "    # 正方形の辺の長さを決定\n",
    "    new_side = min(width, height)\n",
    "\n",
    "    # 中心を計算\n",
    "    left = (width - new_side) / 2\n",
    "    top = (height - new_side) / 2\n",
    "    right = (width + new_side) / 2\n",
    "    bottom = (height + new_side) / 2\n",
    "\n",
    "    # 画像を切り抜く\n",
    "    img = img.crop((left, top, right, bottom))\n",
    "\n",
    "    return img"
   ]
  },
  {
   "cell_type": "code",
   "execution_count": 27,
   "metadata": {},
   "outputs": [
    {
     "name": "stdout",
     "output_type": "stream",
     "text": [
      "/Users/iwakiaoiyou/oshi-ramen/magazine/imgs/round-square\n",
      "/Users/iwakiaoiyou/oshi-ramen/view/public/ramen/IMG_9644.jpeg\n",
      "/Users/iwakiaoiyou/oshi-ramen/magazine/imgs/round-square/IMG_9644.png\n",
      "/Users/iwakiaoiyou/oshi-ramen/view/public/ramen/IMG_9632.jpeg\n",
      "/Users/iwakiaoiyou/oshi-ramen/magazine/imgs/round-square/IMG_9632.png\n",
      "/Users/iwakiaoiyou/oshi-ramen/view/public/ramen/IMG_9599.jpeg\n",
      "/Users/iwakiaoiyou/oshi-ramen/magazine/imgs/round-square/IMG_9599.png\n",
      "/Users/iwakiaoiyou/oshi-ramen/view/public/ramen/IMG_9565.jpeg\n",
      "/Users/iwakiaoiyou/oshi-ramen/magazine/imgs/round-square/IMG_9565.png\n",
      "/Users/iwakiaoiyou/oshi-ramen/view/public/ramen/IMG_9495.jpeg\n",
      "/Users/iwakiaoiyou/oshi-ramen/magazine/imgs/round-square/IMG_9495.png\n",
      "/Users/iwakiaoiyou/oshi-ramen/view/public/ramen/IMG_9358.jpeg\n",
      "/Users/iwakiaoiyou/oshi-ramen/magazine/imgs/round-square/IMG_9358.png\n",
      "/Users/iwakiaoiyou/oshi-ramen/view/public/ramen/IMG_9437.jpeg\n",
      "/Users/iwakiaoiyou/oshi-ramen/magazine/imgs/round-square/IMG_9437.png\n"
     ]
    }
   ],
   "source": [
    "def round_corners_all_images(img_dir, out_dir, radius):\n",
    "    # 出力ディレクトリが存在しない場合は作成\n",
    "    out_dir.mkdir(parents=True, exist_ok=True)\n",
    "    print(out_dir)\n",
    "\n",
    "    # img_dir内の全ての画像ファイルを処理\n",
    "    for img_path in img_dir.glob(\"*.jpeg\"):\n",
    "        print(img_path)\n",
    "        # 画像を開く\n",
    "        image = Image.open(img_path)\n",
    "\n",
    "        # 画像を正方形に切り抜く\n",
    "        image = crop_center_square(image)\n",
    "\n",
    "        # 角を丸める\n",
    "        image = round_corner(image,\n",
    "                            radius = radius)\n",
    "\n",
    "        # 出力パスを作成 as png\n",
    "        out_path = out_dir / img_path.name\n",
    "        out_path = out_path.with_suffix(\".png\")\n",
    "        print(out_path)\n",
    "\n",
    "        # 画像を保存する\n",
    "        image.save(out_path)\n",
    "\n",
    "\n",
    "# 使用例\n",
    "out_dir = Path(\"/Users/iwakiaoiyou/oshi-ramen/magazine/imgs/round-square\")\n",
    "round_corners_all_images(img_dir, out_dir, radius = 500)  # radiusは角の丸みの半径"
   ]
  },
  {
   "cell_type": "code",
   "execution_count": null,
   "metadata": {
    "vscode": {
     "languageId": "ini"
    }
   },
   "outputs": [],
   "source": [
    "def crop_center_square(image_path, out_path):\n",
    "    # 画像を開く\n",
    "    image = Image.open(image_path)\n",
    "    \n",
    "    # 画像のサイズを取得\n",
    "    width, height = image.size\n",
    "    \n",
    "    # 正方形の辺の長さを決定\n",
    "    new_side = min(width, height)\n",
    "    \n",
    "    # 中心を計算\n",
    "    left = (width - new_side) / 2\n",
    "    top = (height - new_side) / 2\n",
    "    right = (width + new_side) / 2\n",
    "    bottom = (height + new_side) / 2\n",
    "    \n",
    "    # 画像を切り抜く\n",
    "    image = image.crop((left, top, right, bottom))\n",
    "    \n",
    "    # 画像を保存する\n",
    "    image.save(out_path)\n",
    "\n",
    "# 使用例\n",
    "crop_center_square(img_path, out_dir / \"cropped_image.png\")"
   ]
  }
 ],
 "metadata": {
  "kernelspec": {
   "display_name": "ramen",
   "language": "python",
   "name": "python3"
  },
  "language_info": {
   "codemirror_mode": {
    "name": "ipython",
    "version": 3
   },
   "file_extension": ".py",
   "mimetype": "text/x-python",
   "name": "python",
   "nbconvert_exporter": "python",
   "pygments_lexer": "ipython3",
   "version": "3.12.9"
  }
 },
 "nbformat": 4,
 "nbformat_minor": 2
}
