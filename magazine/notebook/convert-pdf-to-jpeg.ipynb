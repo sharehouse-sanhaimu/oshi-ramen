{
 "cells": [
  {
   "cell_type": "code",
   "execution_count": 4,
   "metadata": {},
   "outputs": [],
   "source": [
    "from pdf2image import convert_from_path\n",
    "\n",
    "# PDFファイルのパス\n",
    "pdf_path = \"/Users/iwakiaoiyou/oshi-ramen/magazine/out/ramen_presentation.pdf\"\n",
    "\n",
    "# PDFを画像に変換\n",
    "images = convert_from_path(pdf_path)\n",
    "\n",
    "# 各ページを圧縮されたJPEGとして保存\n",
    "for i, image in enumerate(images):\n",
    "    image.save(\n",
    "        f\"/Users/iwakiaoiyou/oshi-ramen/magazine/out/output_page_{i + 1}.jpg\",\n",
    "        \"JPEG\",\n",
    "        quality=20,\n",
    "    )"
   ]
  }
 ],
 "metadata": {
  "kernelspec": {
   "display_name": "ramen",
   "language": "python",
   "name": "python3"
  },
  "language_info": {
   "codemirror_mode": {
    "name": "ipython",
    "version": 3
   },
   "file_extension": ".py",
   "mimetype": "text/x-python",
   "name": "python",
   "nbconvert_exporter": "python",
   "pygments_lexer": "ipython3",
   "version": "3.12.9"
  }
 },
 "nbformat": 4,
 "nbformat_minor": 2
}
