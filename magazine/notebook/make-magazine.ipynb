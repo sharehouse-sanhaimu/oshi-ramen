{
 "cells": [
  {
   "cell_type": "code",
   "execution_count": null,
   "metadata": {},
   "outputs": [],
   "source": [
    "from pathlib import Path"
   ]
  },
  {
   "cell_type": "code",
   "execution_count": 5,
   "metadata": {},
   "outputs": [],
   "source": [
    "img_dir = Path(\"/Users/iwakiaoiyou/oshi-ramen/magazine/imgs/round-square\")"
   ]
  },
  {
   "cell_type": "code",
   "execution_count": 25,
   "metadata": {},
   "outputs": [],
   "source": [
    "from reportlab.lib.pagesizes import A4, landscape\n",
    "from reportlab.lib.units import inch\n",
    "from reportlab.pdfgen import canvas\n",
    "from PIL import Image\n",
    "\n",
    "\n",
    "def create_ramen_presentation(output_path, images):\n",
    "    c = canvas.Canvas(output_path, pagesize=landscape(A4))\n",
    "    width, height = landscape(A4)\n",
    "\n",
    "    # タイトル\n",
    "    c.setFont(\"Helvetica-Bold\", 24)\n",
    "    c.drawCentredString(width / 2.0, height - 1 * inch, \"Oshi-Ramen\")\n",
    "\n",
    "    # 画像を横に並べて追加\n",
    "    total_image_width = 0\n",
    "    image_sizes = []\n",
    "\n",
    "    # まず、各画像のサイズを計算し、合計幅を求める\n",
    "    for image_path in images:\n",
    "        img = Image.open(image_path)\n",
    "        img_width, img_height = img.size\n",
    "        aspect = img_width / img_height\n",
    "\n",
    "        img_display_width = (width - 2 * inch) / len(images)\n",
    "        img_display_height = img_display_width / aspect\n",
    "\n",
    "        if img_display_height > 2 * inch:\n",
    "            img_display_height = 2 * inch\n",
    "            img_display_width = img_display_height * aspect\n",
    "\n",
    "        total_image_width += img_display_width\n",
    "        image_sizes.append((img_display_width, img_display_height))\n",
    "\n",
    "    # 画像の開始位置を計算して中央に揃える\n",
    "    total_spacing = width - total_image_width - 2 * inch\n",
    "    spacing = total_spacing / (len(images) + 1)\n",
    "    start_x = spacing + inch\n",
    "\n",
    "    for i, (image_path, (img_display_width, img_display_height)) in enumerate(\n",
    "        zip(images, image_sizes)\n",
    "    ):\n",
    "        c.drawImage(\n",
    "            image_path,\n",
    "            start_x,\n",
    "            height - 2 * inch - img_display_height,\n",
    "            width=img_display_width,\n",
    "            height=img_display_height,\n",
    "        )\n",
    "        start_x += img_display_width + spacing\n",
    "\n",
    "    c.save()"
   ]
  },
  {
   "cell_type": "code",
   "execution_count": 26,
   "metadata": {},
   "outputs": [],
   "source": [
    "# 画像のパスを指定\n",
    "images = [\n",
    "    img_dir / \"IMG_9358.png\",\n",
    "    img_dir / \"IMG_9437.png\",\n",
    "    img_dir / \"IMG_9495.png\",\n",
    "]\n",
    "\n",
    "# PDFを作成\n",
    "create_ramen_presentation(\n",
    "    \"/Users/iwakiaoiyou/oshi-ramen/magazine/imgs/magazine/ramen_presentation.pdf\",\n",
    "    images,\n",
    ")\n"
   ]
  }
 ],
 "metadata": {
  "kernelspec": {
   "display_name": "ramen",
   "language": "python",
   "name": "python3"
  },
  "language_info": {
   "codemirror_mode": {
    "name": "ipython",
    "version": 3
   },
   "file_extension": ".py",
   "mimetype": "text/x-python",
   "name": "python",
   "nbconvert_exporter": "python",
   "pygments_lexer": "ipython3",
   "version": "3.12.9"
  }
 },
 "nbformat": 4,
 "nbformat_minor": 2
}
